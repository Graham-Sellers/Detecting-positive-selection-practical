{
 "cells": [
  {
   "cell_type": "markdown",
   "id": "0aa925a9",
   "metadata": {},
   "source": [
    "<hr>\n",
    "\n",
    "# <font color='DarkBlue'>DETECTING POSITIVE SELECTION PRACTICAL NOTEBOOK</font>\n",
    "\n",
    "<hr>\n",
    "    \n",
    "Dr Graham S. Sellers *g.sellers@hull.ac.uk*"
   ]
  },
  {
   "cell_type": "markdown",
   "id": "1d1c4b7b",
   "metadata": {},
   "source": [
    "![manhattan](images/manhattan_skyline2.jpg)"
   ]
  },
  {
   "cell_type": "markdown",
   "id": "74919642",
   "metadata": {},
   "source": [
    "## <font color='DarkBlue'>Overview</font>\n",
    "\n",
    "This practical follows up on Domino's *Detecting positive selection* lecture.  \n",
    "Ideally you will have attended/viewed Domino's lecture and so understand the background of this practical.  \n",
    "\n",
    "\n",
    "\n"
   ]
  },
  {
   "cell_type": "markdown",
   "id": "ff0b3995",
   "metadata": {},
   "source": [
    "## <font color='DarkBlue'>Genome-wide association studies (GWAS)</font>\n",
    "   \n",
    "   \n",
    "GWAS can be used to detect positive selection, discovering genes that perform a significant part in a particular trait. The sequenced genomes of two groups differing in a trait of interest are \"scanned\" for single nucleotide polymorphisms (SNPs) and compared to detect any that associate with the trait. The GWAS outputs each SNP shared between all genomes and its probability of error (*p-value*) for association with the trait of interest.\n",
    "\n",
    "In this practical we will look at how to visualise GWAS data in the form of Manhattan plots.  \n",
    "We will interpret the results and look at the function of genes under selection.  \n",
    "\n",
    "First, we shall learn the process on a small test dataset and then move on to applying it to some real-world large data.  \n",
    "\n",
    "This practical will give you:  \n",
    "* Experience in visualising big GWAS data\n",
    "* Knowledge of how to interpret a Manahattan plot\n",
    "* Understanding of how genes under positive selection can be detected\n",
    "\n",
    "\n"
   ]
  },
  {
   "cell_type": "markdown",
   "id": "5bfce56d",
   "metadata": {},
   "source": [
    "# <font color='DarkBlue'>Introduction to Jupyter Notebooks</font>\n",
    "\n",
    "<hr>\n",
    "\n",
    "For this practical we are using **Jupyter Notebook**. This document is a Jupyter Notebook. It is a web browser based text editor that is also able to execute code. This allows us to provide both the instructions and the command line exercises together for this practical.\n",
    "\n",
    "This is an *R* based session in a Jupyter notebook. You are probably familiar running *R* in something like *RStudio*. Jupyter Notebooks operate slightly differently but otherwise the *R* code is the same.\n",
    "\n",
    "The actual terminal where the code is written and run are the grey cells (boxes) prefixed by `[ ]:`\n",
    "\n",
    "Here is one:\n"
   ]
  },
  {
   "cell_type": "code",
   "execution_count": null,
   "id": "139f6f24",
   "metadata": {},
   "outputs": [],
   "source": []
  },
  {
   "cell_type": "markdown",
   "id": "6dde51ab",
   "metadata": {},
   "source": [
    "You can run code in a cell by clicking in it, typing the code, and then Shift-Enter to run it. You can also click the triangular `Run` button in the menu bar.\n",
    "\n",
    "Try it below, the 'hello world' `print` command has been entered for you."
   ]
  },
  {
   "cell_type": "code",
   "execution_count": null,
   "id": "e8f54e2b",
   "metadata": {},
   "outputs": [],
   "source": [
    "print('hello world')"
   ]
  },
  {
   "cell_type": "markdown",
   "id": "0ced64c7",
   "metadata": {},
   "source": [
    "As you can see the output for the code run is presented directly below the cell. In the case above we have \"hello world\".\n",
    "\n",
    "The same goes for any plots you make. As a demononstration, run the cell below:"
   ]
  },
  {
   "cell_type": "code",
   "execution_count": null,
   "id": "6ae3a915",
   "metadata": {},
   "outputs": [],
   "source": [
    "plot(1, 1)"
   ]
  },
  {
   "cell_type": "markdown",
   "id": "bd61091e",
   "metadata": {},
   "source": [
    "### <font color='DarkBlue'>Well Done!</font>\n",
    "\n",
    "You now have the basic skills required to use a Jupyter Notebook. Use these skills to progress through the rest of the practical.\n",
    "\n",
    "**Any questions, just ask a demonstrator.**"
   ]
  },
  {
   "cell_type": "markdown",
   "id": "81719203",
   "metadata": {},
   "source": [
    "# <font color='DarkBlue'>Section 1: Manhattan plot creation</font>\n",
    "\n",
    "<hr>\n",
    "\n",
    "In this section we will learn how to deal with GWAS data and how to make a Manhattan plot in *R*.\n",
    "\n",
    "We will get to grips with the process on the small test dataset provided.  "
   ]
  },
  {
   "cell_type": "markdown",
   "id": "13c81fd0",
   "metadata": {},
   "source": [
    "### STEP 1: Import the data\n",
    "\n",
    "<hr>\n",
    "\n",
    "#### Read in the data:\n",
    "\n",
    "The input file is a tab-delimited text file (i.e. each column is separated by <-TAB->).  \n",
    "So here we use the `read.csv()` function and include `sep = '\\t'` to make *R* read it in correctly as tab-delimited.  \n",
    "The `header = TRUE` bit keeps the column names as headers - we'll kinda need these.  \n"
   ]
  },
  {
   "cell_type": "code",
   "execution_count": null,
   "id": "6c012e9d",
   "metadata": {},
   "outputs": [],
   "source": [
    "# import the data:\n",
    "\n",
    "test = read.csv('data/test_gwas.txt', sep = '\\t', header = TRUE)"
   ]
  },
  {
   "cell_type": "markdown",
   "id": "49ed9f4e",
   "metadata": {},
   "source": [
    "### STEP 2: Explore the data\n",
    "\n",
    "<hr>\n",
    "\n",
    "#### Lets have a look at the data:\n",
    "Use `head()` to eyeball the first 6 rows of our data:"
   ]
  },
  {
   "cell_type": "code",
   "execution_count": null,
   "id": "26c0474a",
   "metadata": {},
   "outputs": [],
   "source": [
    "head(test)"
   ]
  },
  {
   "cell_type": "markdown",
   "id": "f3a6f573",
   "metadata": {},
   "source": [
    "Now use `names()` to see the names of each column:"
   ]
  },
  {
   "cell_type": "code",
   "execution_count": null,
   "id": "e09aac0b",
   "metadata": {},
   "outputs": [],
   "source": [
    "names(test)"
   ]
  },
  {
   "cell_type": "markdown",
   "id": "28e0bfec",
   "metadata": {},
   "source": [
    "How big is our dataframe? `dim()` gives the dimensions in two numbers:  \n",
    "*(The first is number of rows, second is columns)*"
   ]
  },
  {
   "cell_type": "code",
   "execution_count": null,
   "id": "3915e85d",
   "metadata": {},
   "outputs": [],
   "source": [
    "dim(test)"
   ]
  },
  {
   "cell_type": "markdown",
   "id": "096a6b2e",
   "metadata": {},
   "source": [
    "#### What is it we have?\n",
    "\n",
    "We have a dataframe of SNPs from a GWAS analysis.  \n",
    "Each row is data representing a SNP.  \n",
    "So, 21,751 SNPs in total (*see `dim()` above*).  \n",
    "  \n",
    "The 4 columns are:  \n",
    "\"chrom\", \"bp\", \"pvalue\", and \"gene\"\n",
    "\n",
    "\"chrom\": the chromosome the SNP is located on.  \n",
    "\"bp\": the position (base pair) at which the SNP occurs on the chromosome.  \n",
    "\"pvalue\": the probability of the GWAS association for the SNP (*p-value*).  \n",
    "\"gene\": the gene the SNP is located in on the chromosome.  \n",
    "  \n",
    "We are specifically interested in the probability of the GWAS per SNP, so lets quickly `plot()` the *p-values*:"
   ]
  },
  {
   "cell_type": "code",
   "execution_count": null,
   "id": "e3411f0b",
   "metadata": {},
   "outputs": [],
   "source": [
    "plot(test$pvalue)"
   ]
  },
  {
   "cell_type": "markdown",
   "id": "9168a178",
   "metadata": {},
   "source": [
    "**This makes no sense at all! So, lets look at it properly...**  \n",
    "  \n",
    "When dealing with GWAS data, there are often many orders of magnitude difference in probability. To account for this, and to normalise the data, we negative log 10 transform the *p-values*, i.e. -log10(*p-value*).\n",
    "\n",
    "A fixed genome wide *p-value* of 5 × 10−8 is widely used to identify SNP association in GWAS. This translates into -log10(5e-8) (~7.3) for the threshold used in context of a Manhattan plot. Log transformed *p-values* must exceed this threshold before they are considered \"significant\". This means that a SNP is only considered if it has a *p-value* ≤ 0.00000005.  \n",
    "\n",
    "So let's `plot()` the -log10 *p-values* and add in a dashed line at y = -log10(5e-8) using `abline()`:"
   ]
  },
  {
   "cell_type": "code",
   "execution_count": null,
   "id": "e825a53a",
   "metadata": {},
   "outputs": [],
   "source": [
    "plot(-log10(test$pvalue))\n",
    "\n",
    "abline(h = -log10(5e-8), lty = 2)"
   ]
  },
  {
   "cell_type": "markdown",
   "id": "cadc82ac",
   "metadata": {},
   "source": [
    "**OK, now we have something!**  \n",
    "\n",
    "There are clearly some points above the threshold.  \n",
    "But what does this mean?  \n",
    "Where are the chromosomes and which genes are important?  \n",
    "\n",
    "So many questions (no really, I'm Sure... riveting isn't it)"
   ]
  },
  {
   "cell_type": "markdown",
   "id": "7c456e97",
   "metadata": {},
   "source": [
    "### STEP 3: Import the function\n",
    "<hr>\n",
    "\n",
    "*R* is a very powerful analytic tool. It, like many others, has the ability to create functions.  \n",
    "Functions are small \"programs\" that execute a set of commands.  \n",
    "Here we will use a premade function that will perform the heavy lifting for this practical.\n",
    "\n",
    "**!DO NOT PANIC!** This is as simple as point-and-click. Once clicked, forever in memory. We're good to go :)\n",
    "  \\\n",
    "  \\\n",
    "  We are going to import the *R* code for the function from the \"function\" directory that forms part of this practical:"
   ]
  },
  {
   "cell_type": "code",
   "execution_count": null,
   "id": "f649b045",
   "metadata": {},
   "outputs": [],
   "source": [
    "# import the man.plot() function:\n",
    "\n",
    "source('functions/man.plot.R')"
   ]
  },
  {
   "cell_type": "markdown",
   "id": "5b49e440",
   "metadata": {},
   "source": [
    "The function is now loaded into the *R* session and will persist until you close the notebook\n",
    "#### The function and how to use it:\n",
    "`man.plot()` firstly plots the figure in a clear manner:  \n",
    "The chromosomes are separated and labelled, the threshold is indicated and SNPS above it are highlighted.  \n",
    "The gene with the highest significant SNP on each chromosome is labelled.\n",
    "\n",
    "Additionally, it generates an output of all significant genes detected.  \n"
   ]
  },
  {
   "cell_type": "markdown",
   "id": "05ff83a2",
   "metadata": {},
   "source": [
    "Use `man.plot()` to plot the data:  \n",
    "*Note: we need to assign an R object, here called \"test_plot\", to the output of the function*"
   ]
  },
  {
   "cell_type": "code",
   "execution_count": null,
   "id": "7e585d3f",
   "metadata": {},
   "outputs": [],
   "source": [
    "# plot the data:\n",
    "\n",
    "test_plot = man.plot(test)"
   ]
  },
  {
   "cell_type": "markdown",
   "id": "2eaf72ab",
   "metadata": {},
   "source": [
    "This is not very easy to view in this manner. So lets make it better."
   ]
  },
  {
   "cell_type": "markdown",
   "id": "0d463857",
   "metadata": {},
   "source": [
    "### STEP 4: Save the plot as an image\n",
    "\n",
    "<hr>\n",
    "\n",
    "Plots viewed in the cells of a notebook are not ideal. It can be difficult to read text or see points clearly, and you can't (*easily*) add them to a document. For these reasons it is better to save them out as an image file.  \n",
    "\n",
    "In _R_ this can be done with `png()`, a basic function that allows you to customise the name and dimensions of your plot. Inside the `png()` function you need to run the code for the plot, in our case the `man.plot()` code from above.  \n",
    "\n",
    "Lets save our plot as a png:  \n"
   ]
  },
  {
   "cell_type": "code",
   "execution_count": null,
   "id": "109b83a6",
   "metadata": {},
   "outputs": [],
   "source": [
    "# save the plot as an image:\n",
    "\n",
    "png('plots/test.png',  # path to file\n",
    "    units = 'px',\n",
    "    height = 600, width = 2000,\n",
    "    pointsize = 30)\n",
    "\n",
    "# here is the basic man.plot() code from above:\n",
    "test_plot = man.plot(test)\n",
    "\n",
    "dev.off()  # finishes the command to save the image"
   ]
  },
  {
   "cell_type": "markdown",
   "id": "c31c9dd7",
   "metadata": {},
   "source": [
    "The image is now saved in the \"plots\" directory. Go there and look at the image that has been created. Much easier to view it as an image like this right?  \n",
    "  \n",
    "**Question:**  \n",
    "How would you rename the image?  \n"
   ]
  },
  {
   "cell_type": "markdown",
   "id": "a3197cc1",
   "metadata": {},
   "source": [
    "### STEP 5: View the significant genes\n",
    "\n",
    "<hr>\n",
    "\n",
    "Looking at the `man.plot()` function's description above there should be some useful information in the *R* object we created with the plot.\n",
    "\n",
    "Now let's call back the *R* object we created and have a look at what we have: "
   ]
  },
  {
   "cell_type": "code",
   "execution_count": null,
   "id": "304844a9",
   "metadata": {},
   "outputs": [],
   "source": [
    "# view the man.plot() output:\n",
    "\n",
    "test_plot"
   ]
  },
  {
   "cell_type": "markdown",
   "id": "360ff3f6",
   "metadata": {},
   "source": [
    "The gene column contains the names of all the significant genes detected. If this were real data there would be some actual gene names that we could search for on Google. We shall do precisely that.\n",
    "\n",
    "### Task: Google the genes\n",
    "\n",
    "<hr>\n",
    "\n",
    "Instead of having no real genes to google, lets google for **IGF1**, an important gene across the animal kingdom, and discover it's function.\n",
    "\n",
    "Google search \"IGF1 gene\".  \n",
    "Wikipedia is a good starting point (*yes, I actually said that*)  \n",
    "\n",
    "What have we discovered about the gene's function?  \n",
    "Do you think it matters that there may not be a record of the gene's function for your species?\n",
    "\n",
    "Discuss with a demonstrator.\n"
   ]
  },
  {
   "cell_type": "markdown",
   "id": "c6e1c98d",
   "metadata": {},
   "source": [
    "## <font color='DarkBlue'>Outcomes of Section 1</font>\n",
    "\n",
    "<hr>\n",
    "\n",
    "**So far we have learned:**\n",
    "* how to import GWAS data\n",
    "* simple ways to explore the data\n",
    "* create and interpret a Manhattan plot\n",
    "* how to look at genes under selection and discover their functions\n",
    "* export the plot as an image\n",
    "\n",
    "### *For the next section of the practical you will modify existing code to generate the relevant outputs* ###\n",
    "\n",
    "You have already used the relevant code above and will just need to modify it accordingly. This next section therefore needs little explanation, but does require you to read and pay attention to the code cells you run. "
   ]
  },
  {
   "cell_type": "markdown",
   "id": "2b2019eb",
   "metadata": {},
   "source": [
    "<hr>\n",
    "\n",
    "# <font color='DarkBlue'>Section 2: Manhattan plots from real-world BIG data</font>\n",
    "\n",
    "<hr>"
   ]
  },
  {
   "cell_type": "markdown",
   "id": "96544c42",
   "metadata": {},
   "source": [
    "![dogs](images/dogs_header.jpg)"
   ]
  },
  {
   "cell_type": "markdown",
   "id": "3d8686f6",
   "metadata": {},
   "source": [
    "## <font color='DarkBlue'>BIG DOG DATA</font>\n",
    "\n",
    "<hr>\n",
    "\n",
    "Dogs are labeled as \"man's best friend\". Humans and dogs have a relationship stretching back at least 15,000 years. Around two centuries ago there was an explosion of dog breeds. Man's best friend suddenly underwent some strong, artificial selection for particular traits. It is the signal of these traits we will look for and discover the genes under selection for said trait.  \n",
    "\n",
    "The data we are going to use is from Plassais et al. (2019). Lead author, Jocelyn Plassais, kindly shared it with us for the purposes of this practical. We will be reproducing some of the Manhattan plots they produced in their paper. Please have a read of it, it's a good one.\n",
    "\n",
    "In this section you will use the skills learned from **Section 1** and apply them to the large GWAS data from two particular dog breed traits:\n",
    "\n",
    "#### <font color='DarkBlue'>1. Face furnishings</font>\n",
    "#### <font color='DarkBlue'>2. Breed height</font>\n",
    "\n",
    "*Please note*: this is genuinely big data and the code cells you run on it may take a little time.  \n",
    "Be patient, ask a demonstrator if you have any concerns."
   ]
  },
  {
   "cell_type": "markdown",
   "id": "55591d3e",
   "metadata": {},
   "source": [
    "### IMPORTANT! A note on the threshold\n",
    "\n",
    "As we have learned above, many studies use a threshold set at -log10(5e-8).\n",
    "\n",
    "However, in the data we are using for this section of the practical, the *p-values* were Bonferroni corrected. This is a common practice in GWAS and is done to reduce false positives. Once corrected it gave a slightly higher, more stringent threshold value. We will use this corrected threshold value for all the dog data.\n",
    "\n",
    "**dog data threshold = 8.46**\n",
    "\n",
    "To use this we simply add the  `man.plot()` function's `threshold` argument like this:\n",
    "\n",
    "`my_plot = man.plot(my_data, threshold = 8.46)`\n"
   ]
  },
  {
   "cell_type": "markdown",
   "id": "dc359afd",
   "metadata": {},
   "source": [
    "## <font color='DarkBlue'>Study 1: Face furnishing</font>\n",
    "\n",
    "<hr>\n",
    "\n",
    "**We start with dog beards!**  \n",
    "\n",
    "The data file for face furnishing is located in the \"**data**\" directory and is called \"**furnish_gwas.txt**\".  \n",
    "*cheeky hint: replace test... with the new file name*\n",
    "\n",
    "Using your skills, modify the code in the following cell to:\n",
    "1. import the correct data file\n",
    "2. give it a meaningful name\n"
   ]
  },
  {
   "cell_type": "code",
   "execution_count": null,
   "id": "06b02171",
   "metadata": {},
   "outputs": [],
   "source": [
    "# import the data:\n",
    "\n",
    "test = read.csv('data/test_gwas.txt', sep = '\\t', header = TRUE)"
   ]
  },
  {
   "cell_type": "markdown",
   "id": "bb470792",
   "metadata": {},
   "source": [
    "Use the empty cell below to explore the data:"
   ]
  },
  {
   "cell_type": "code",
   "execution_count": null,
   "id": "62a820a1",
   "metadata": {},
   "outputs": [],
   "source": [
    "# explore the data:\n",
    "\n",
    "\n",
    "\n",
    "\n"
   ]
  },
  {
   "cell_type": "markdown",
   "id": "3d35d4fa",
   "metadata": {},
   "source": [
    "### Big data warning!\n",
    "\n",
    "Here, you would usually make the plot in the cell to quickly view it. However, due to the size of the data we are plotting, this is not really feasible. It takes a very, very long time. Plus, it isn't really clear to view in the cell.\n",
    "\n",
    "It takes much less time (but still some time) to simply save the plot as an image. You will have to do just that. Then view it after (it should be in the \"plots\" directory called the name you gave it)."
   ]
  },
  {
   "cell_type": "markdown",
   "id": "3912b0f1",
   "metadata": {},
   "source": [
    "Now save the plot as an image:\n",
    "1. give the image a meaningful name (make sure it is in the plots directory)\n",
    "2. add the `man.plot()` code\n",
    "3. give this a meaningful name\n",
    "4. make it take in the newly imported data (from above)\n",
    "5. add in the `threshold` argument and give it the correct value"
   ]
  },
  {
   "cell_type": "code",
   "execution_count": null,
   "id": "035c39c0",
   "metadata": {},
   "outputs": [],
   "source": [
    "# save the plot as an image:\n",
    "\n",
    "png('plots/test.png',  # modify name\n",
    "    height = 600, width = 2000,\n",
    "    units = 'px',\n",
    "    pointsize = 30)\n",
    "# man.plot() code - modify to correct data, don't forget to add the threshold (see above)\n",
    "test_plot = man.plot(test)\n",
    "\n",
    "dev.off()"
   ]
  },
  {
   "cell_type": "markdown",
   "id": "849ff30c",
   "metadata": {},
   "source": [
    "Then, look at the *R* object generated by `man.plot()` and see what genes there are:  \n",
    "(*refer to the plot image you have just saved to see which stand out*)"
   ]
  },
  {
   "cell_type": "code",
   "execution_count": null,
   "id": "9f12a6f8",
   "metadata": {},
   "outputs": [],
   "source": [
    "# view the man.plot() output:\n",
    "\n",
    "test_plot"
   ]
  },
  {
   "cell_type": "markdown",
   "id": "d2d3ac8f",
   "metadata": {},
   "source": [
    "Finally, Google some of genes and determine their functions.  \n",
    "Consider their functions and how this relates to the face furnishing trait.\n",
    "\n",
    "Discuss your findings with a demonstrator."
   ]
  },
  {
   "cell_type": "markdown",
   "id": "dc7f23f5",
   "metadata": {},
   "source": [
    "## <font color='DarkBlue'>Study 2: Breed height</font>\n",
    "\n",
    "<hr>\n",
    "\n",
    "**Now do it all again with dog breed height**\n",
    "\n",
    "The data file for breed height is located in the \"**data**\" directory and is called \"**height_gwas.txt**\"."
   ]
  },
  {
   "cell_type": "code",
   "execution_count": null,
   "id": "f24eb776",
   "metadata": {},
   "outputs": [],
   "source": [
    "# import data:\n",
    "\n",
    "test = read.csv('data/test_gwas.txt', sep = '\\t', header = TRUE)"
   ]
  },
  {
   "cell_type": "code",
   "execution_count": null,
   "id": "f0459f9f",
   "metadata": {},
   "outputs": [],
   "source": [
    "# explore data here:\n",
    "\n",
    "\n",
    "\n",
    "\n"
   ]
  },
  {
   "cell_type": "code",
   "execution_count": null,
   "id": "e08d738d",
   "metadata": {},
   "outputs": [],
   "source": [
    "# save the plot as an image:\n",
    "\n",
    "png('plots/test.png',  # modify name\n",
    "    height = 600, width = 2000,\n",
    "    units = 'px',\n",
    "    pointsize = 30)\n",
    "\n",
    "# man.plot() code - modify to correct data, don't forget to add the threshold (see above)\n",
    "test_plot = man.plot(test)\n",
    "\n",
    "dev.off()"
   ]
  },
  {
   "cell_type": "code",
   "execution_count": null,
   "id": "852eef9f",
   "metadata": {},
   "outputs": [],
   "source": [
    "# view the man.plot() output:\n",
    "\n",
    "test_plot"
   ]
  },
  {
   "cell_type": "markdown",
   "id": "22e984af",
   "metadata": {},
   "source": [
    "As before, Google some of genes, consider their functions and how this relates to the breed height trait.\n",
    "\n",
    "Discuss your findings with a demonstrator."
   ]
  },
  {
   "cell_type": "markdown",
   "id": "88072fea",
   "metadata": {},
   "source": [
    "## <font color='DarkBlue'>Outcomes of Section 2</font>\n",
    "\n",
    "<hr>\n",
    "\n",
    "**You will now have:**\n",
    "* interpretted two seperate large GWAS datasets\n",
    "* discovered the functions of significant genes\n",
    "* considered how these genes relate to the traits of interest\n",
    "\n",
    "\n"
   ]
  },
  {
   "cell_type": "markdown",
   "id": "6908cac9",
   "metadata": {},
   "source": [
    "## <font color='DarkBlue'>Congratulations! You have completed Practical 1: Detecting positive selection.</font>\n",
    "\n",
    "<hr>\n",
    "\n",
    "**You should now have the skills to revisit this code and use it on a new dataset, see the assignment outline below.**"
   ]
  },
  {
   "cell_type": "markdown",
   "id": "26d9a2bd",
   "metadata": {},
   "source": [
    "<hr>\n",
    "\n",
    "# <font color='DarkBlue'>Assignment</font>\n",
    "\n",
    "<hr>\n",
    "\n",
    "You will need to return to this notebook for part of the MCQ assignment for this section of the module. You will be required to run the relevant code on a new dataset, generate a plot and interpret the outcome.\n",
    "\n",
    "#### <font color='DarkBlue'>You will need to do this completely independently.</font>  \n",
    "No help will be given so having understood the practical will greatly improve your chances of getting a good grade.\n",
    "\n",
    "#### <font color='DarkBlue'>This is worth 20% of the module.</font>\n",
    "\n",
    "When the MCQ assignment is available, log on to Jupyter Lab as per the instructions given. Open this Jupyter notebook, run the all the relevant code in the cells below and then answer the questions.\n",
    "\n",
    "\n",
    "\n"
   ]
  },
  {
   "cell_type": "markdown",
   "id": "5432df4f",
   "metadata": {},
   "source": [
    "# <font color='DarkBlue'>MCQ section</font>\n",
    "\n",
    "All the code you need to generate the outputs for the MCQ you have already covered in this notebook. As it was in the practical, all that needs to be done is to modify the code to do the right thing for each step.\n",
    "\n",
    "This is dog data so remember the **threshold** needs to be added to `man.plot()`.\n",
    "\n",
    "The data file for an unknown trait is located in the \"**data**\" directory and is called \"**unknown_trait_gwas.txt**\". "
   ]
  },
  {
   "cell_type": "code",
   "execution_count": null,
   "id": "fd137898",
   "metadata": {},
   "outputs": [],
   "source": [
    "# import the data:\n",
    "\n"
   ]
  },
  {
   "cell_type": "code",
   "execution_count": null,
   "id": "5abe3582",
   "metadata": {},
   "outputs": [],
   "source": [
    "# explore the data:\n",
    "\n"
   ]
  },
  {
   "cell_type": "code",
   "execution_count": null,
   "id": "b0a3bc31",
   "metadata": {},
   "outputs": [],
   "source": [
    "# import the man.plot() function:\n",
    "\n"
   ]
  },
  {
   "cell_type": "code",
   "execution_count": null,
   "id": "a200596a",
   "metadata": {},
   "outputs": [],
   "source": [
    "# save the plot as an image:\n",
    "\n"
   ]
  },
  {
   "cell_type": "code",
   "execution_count": null,
   "id": "8d1ab9ea",
   "metadata": {},
   "outputs": [],
   "source": [
    "# view the man.plot() output:\n",
    "\n"
   ]
  },
  {
   "cell_type": "markdown",
   "id": "aa58e05f",
   "metadata": {},
   "source": [
    "### After completing the steps above, keep this notebook open as you do the MCQ. You will need it. ###"
   ]
  },
  {
   "cell_type": "markdown",
   "id": "1ff48264",
   "metadata": {},
   "source": [
    "### <font color='DarkBlue'>References</font>\n",
    "\n",
    "Plassais J, Kim J, Davis BW, Karyadi DM, Hogan AN, Harris AC, Decker B, Parker HG, Ostrander EA (2019) Whole genome sequencing of canids reveals genomic regions under selection and variants influencing morphology. *Nature communications* 10:1489."
   ]
  }
 ],
 "metadata": {
  "kernelspec": {
   "display_name": "R",
   "language": "R",
   "name": "ir"
  },
  "language_info": {
   "codemirror_mode": "r",
   "file_extension": ".r",
   "mimetype": "text/x-r-source",
   "name": "R",
   "pygments_lexer": "r",
   "version": "4.2.1"
  }
 },
 "nbformat": 4,
 "nbformat_minor": 5
}
