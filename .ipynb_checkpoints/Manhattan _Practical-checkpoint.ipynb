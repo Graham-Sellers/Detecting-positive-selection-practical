{
 "cells": [
  {
   "cell_type": "markdown",
   "id": "f4af7815",
   "metadata": {},
   "source": [
    "# <font color='DarkBlue'>MANHATTAN PLOT PRACTICAL NOTEBOOK\n",
    "\n",
    "<hr>\n",
    "    \n",
    "Dr Graham Sellers g.sellers@hull.ac.uk"
   ]
  },
  {
   "cell_type": "markdown",
   "id": "ff0b3995",
   "metadata": {},
   "source": [
    "## <font color='DarkBlue'>Genome-wide association studies (GWAS)\n",
    "\n",
    "Sequenced genomes from multiple individuals of a species are \"scanned\" for single nucleotide polymorphisms (SNPs) and compared to detect any that associate with specific traits. These studies are usually focused on groups, or populations, that exhibit physical variation. GWAS outputs each SNP shared between genomes and its probability of error (*p-value*) for association with the trait of interest.\n",
    "\n",
    "In this practical we will look at how to visiualise GWAS data in the form of Manhattan plots.  \n",
    "We will also look at interpretting the results and what they mean in the big picture.  \n",
    "\n",
    "First, we shall learn the process on a small test data and then move on to applying it to some real-world large data.  \n",
    "\n",
    "This practical will give some:  \n",
    "* Experience in visiualising big GWAS data\n",
    "* Knowledge of how to interpret a Manahattan plot\n",
    "* Understanding of how candidate genes for selection can be detected\n",
    "\n"
   ]
  },
  {
   "cell_type": "markdown",
   "id": "81719203",
   "metadata": {},
   "source": [
    "## <font color='DarkBlue'>Section 1: Manahttan plot creation\n",
    "In this section we will learn how to deal with GWAS data and how to make a Manhattan plot in *R*.  \\\n",
    "We will get to grips with the process on the small test data provided.  "
   ]
  },
  {
   "cell_type": "markdown",
   "id": "13c81fd0",
   "metadata": {},
   "source": [
    "### Step 1: Import the data\n",
    "\n",
    "#### Read in the data:\n",
    "\n",
    "The input file is a tab-delimited text file (i.e. each column is separated by <-TAB->).  \n",
    "So here weuse the `read.csv()` function and include `sep = '\\t'` to make *R* read it in correctly as tab-delimited.  \n",
    "The `header = TRUE` bit keeps the column names as headers - we'll kinda need these.  \n"
   ]
  },
  {
   "cell_type": "code",
   "execution_count": null,
   "id": "6c012e9d",
   "metadata": {},
   "outputs": [],
   "source": [
    "test = read.csv('data/test_gwas.txt', sep = '\\t', header = TRUE)"
   ]
  },
  {
   "cell_type": "markdown",
   "id": "49ed9f4e",
   "metadata": {},
   "source": [
    "### STEP 2: Explore the data\n",
    "\n",
    "#### Lets have a look at the data:\n",
    "Use `head()` to eyeball the first 6 rows of our data:"
   ]
  },
  {
   "cell_type": "code",
   "execution_count": null,
   "id": "26c0474a",
   "metadata": {},
   "outputs": [],
   "source": [
    "head(test)"
   ]
  },
  {
   "cell_type": "markdown",
   "id": "f3a6f573",
   "metadata": {},
   "source": [
    "Now use `names()` to see the names of each column:"
   ]
  },
  {
   "cell_type": "code",
   "execution_count": null,
   "id": "e09aac0b",
   "metadata": {},
   "outputs": [],
   "source": [
    "names(test)"
   ]
  },
  {
   "cell_type": "markdown",
   "id": "28e0bfec",
   "metadata": {},
   "source": [
    "How big is our dataframe? `dim()` gives the dimensions in two numbers:  \n",
    "*(The first is number of rows, second is columns)*"
   ]
  },
  {
   "cell_type": "code",
   "execution_count": null,
   "id": "3915e85d",
   "metadata": {},
   "outputs": [],
   "source": [
    "dim(test)"
   ]
  },
  {
   "cell_type": "markdown",
   "id": "096a6b2e",
   "metadata": {},
   "source": [
    "#### What is it we have?\n",
    "\n",
    "We have a dataframe of SNPs from a GWAS analysis.  \n",
    "Each row is data representing a SNP.  \n",
    "So, 21,751 SNPs in total!  \n",
    "  \n",
    "The 4 columns are:  \n",
    "\"chrom\", \"bp\", \"pvalue\", and \"gene\"\n",
    "\n",
    "\"chrom\": the chromosome the SNP is located on.  \n",
    "\"bp\": the position (base pair) at which the SNP occurs on the chromosome.  \n",
    "\"pvalue\": the probability of the GWAS association for the SNP (*p-value*).  \n",
    "\"gene\": the gene the SNP is located in on the chromosome.  \n",
    "  \n",
    "We are specifically interested in the probability of the GWAS per SNP, so lets quickly `plot()` the *p-values*:"
   ]
  },
  {
   "cell_type": "code",
   "execution_count": null,
   "id": "e3411f0b",
   "metadata": {},
   "outputs": [],
   "source": [
    "plot(test$pvalue)"
   ]
  },
  {
   "cell_type": "markdown",
   "id": "9168a178",
   "metadata": {},
   "source": [
    "**This makes no sense at all! So, lets look at it properly...**  \n",
    "  \n",
    "When dealing with GWAS data, there are often many orders of magnitude difference in probability. To account for this, and to normalise the data, we negative log 10 transform the *p-values*, i.e. -log10(*p-value*).\n",
    "\n",
    "A fixed genome wide *p-value* of 5 × 10−8 is widely used to identify SNP association in GWAS. This translates into -log10(5e-8) (~7.3) for the threshold used in context of a Manhattan plot. Log transformed *p-values* must exceed this threshold before they are considered \"significant\". This means that a SNP is only considered if it has a *p-value* ≤ 0.00000005.  \n",
    "\n",
    "So let's `plot()` the -log10 *p-values* and add in a dashed line at y = -log10(5e-8) using `abline()`:"
   ]
  },
  {
   "cell_type": "code",
   "execution_count": null,
   "id": "e825a53a",
   "metadata": {},
   "outputs": [],
   "source": [
    "plot(-log10(test$pvalue))\n",
    "\n",
    "abline(h = -log10(5e-8), lty = 2)"
   ]
  },
  {
   "cell_type": "markdown",
   "id": "cadc82ac",
   "metadata": {},
   "source": [
    "**OK, now we have something!**  \n",
    "\n",
    "There are clearly some points above the threshold.  \n",
    "But what does this mean?  \n",
    "Where are the chromosomes and which genes are important?  \n",
    "\n",
    "So many questions (no really, I'm Sure... riveting isn't it)"
   ]
  },
  {
   "cell_type": "markdown",
   "id": "7c456e97",
   "metadata": {},
   "source": [
    "### STEP 3: Plot the data\n",
    "*R* is a very powerful analytic tool. It, like many others, has the ability to create functions.  \n",
    "Functions are small \"programs\" that execute a set of commands.  \n",
    "Here we will use a premade function that will perform the heavy lifting for this practical.\n",
    "\n",
    "**!DO NOT PANIC!** This is as simple as point-and-click. Once clicked, forever in memory. We're good to go :)\n",
    "  \\\n",
    "  \\\n",
    "  We are going to import the *R* code for the function from the \"function\" directory that forms part of this practical:"
   ]
  },
  {
   "cell_type": "code",
   "execution_count": null,
   "id": "f649b045",
   "metadata": {},
   "outputs": [],
   "source": [
    "source('functions/man.plot.R')"
   ]
  },
  {
   "cell_type": "markdown",
   "id": "5b49e440",
   "metadata": {},
   "source": [
    "The function is now loaded into the *R* session and will persist until you close the notebook  \n",
    "#### The function and how to use it:\n",
    "The function, `man.plot()`, importantly plots the figure clearly but it also:  \n",
    "* gives the transformed *pvalue* i.e -log10()\n",
    "* gives relative basepair position on the chromosome (*shows the closeness of the SNPs*)\n",
    "* seperates, labels and colours the chromosomes (*to better dinstinguish them*)\n",
    "* adds on the threshold line at -log10(5e-8)\n",
    "* highlights significant SNPs  \n",
    "* labels significant SNPs with the relevant gene they are located on\n",
    "* generates an output dataframe of all significant genes  \n",
    "\n",
    "\n",
    "Use `man.plot()` to plot the data:  \n",
    "*NB: we need to assign an R object, here called \"test_plot\", to the output of the function*"
   ]
  },
  {
   "cell_type": "code",
   "execution_count": null,
   "id": "7e585d3f",
   "metadata": {},
   "outputs": [],
   "source": [
    "test_plot = man.plot(test)"
   ]
  },
  {
   "cell_type": "markdown",
   "id": "a3197cc1",
   "metadata": {},
   "source": [
    "Looking at the function description above above there should be some useful information in the *R* object we created with the plot.\n",
    "\n",
    "**Questions:**  \n",
    "What would you expect to see?  \n",
    "What could we do with this information?\n",
    "\n",
    "Now let's call back the *R* object we created and have a look at what we have: "
   ]
  },
  {
   "cell_type": "code",
   "execution_count": null,
   "id": "2758b6ab",
   "metadata": {},
   "outputs": [],
   "source": [
    "test_plot"
   ]
  },
  {
   "cell_type": "markdown",
   "id": "d60d9ff3",
   "metadata": {},
   "source": [
    "### Tweaking the plot\n",
    "There are some small aesthetic adjustments that can be made to the plot. We can change the colour and size of points, zoom in on specific chromosomes. These small tweaks can make a plot feel like your own, plus it's a bit of practice in itself.  \n",
    "  \n",
    "Take a moment to look at the arguments we can feed in to the function:  \n",
    "\n",
    "`man.plot(df, chroms, threshold, highlight, point.cex, point.cols, line.col)`\n",
    "\n",
    "| Argument | Description |\n",
    "| :----------- | :----------- |\n",
    "| **df**     | a gwas dataframe | \n",
    "| **chroms** | a list of chromosomes to isolate\n",
    "| **threshold** | value for the significance threshold for SNPs | \n",
    "| **highlight** | colour for highlighting significant SNPs | \n",
    "| **point.cex** | point size | \n",
    "| **point.cols** | a list of colours for alternating chromosomes | \n",
    "| **line.col** | colour for the significance threshold line |\n",
    "  \n",
    "  \n",
    "\n",
    "In the cell below there is the code to look at chromosomes 5, 13 and Y in the test data. The threshold value is changed to 7.5, the chromosomes are coloured lightblue, pink and purple. SNPS above the threshold line (now orange) are highlighted blue and the plot points are much larger.  \n",
    "  \n",
    "Run the code. Then tweak the parameters to what you wish and run it again."
   ]
  },
  {
   "cell_type": "code",
   "execution_count": null,
   "id": "b2b680f4",
   "metadata": {},
   "outputs": [],
   "source": [
    "test_plot = man.plot(test,\n",
    "                     chroms = c('5', '13', 'Y'),\n",
    "                     threshold = 7.5,\n",
    "                     highlight = 'blue',\n",
    "                     point.cex = 1.5,\n",
    "                     point.cols = c('lightblue', 'pink', 'purple'),\n",
    "                     line.col = 'orange')"
   ]
  },
  {
   "cell_type": "markdown",
   "id": "59dd3165",
   "metadata": {},
   "source": [
    "### Exporting the plot\n",
    "\n",
    "Plots viewed in the cells of a notebook are not ideal. It can be difficult to read text or see points clearly, and you can't (*easily*) add them to a document. For these reasons it is better to save them out as an image file.  \n",
    "\n",
    "In _R_ this can be done with `png()`, a basic function that allows you to customise the name and dimensions of your plot.  \n",
    "\n",
    "Lets save the basic test plot as a png.  \n"
   ]
  },
  {
   "cell_type": "code",
   "execution_count": null,
   "id": "6308cd8e",
   "metadata": {},
   "outputs": [],
   "source": [
    "png('plots/test.png',  # path to file\n",
    "    units = 'px',  # units of the image (in this case pixels)\n",
    "    height = 600, width = 2000,  # height and width of plot in pixels (see units)\n",
    "    pointsize = 30)  # size of the lines, text and points\n",
    "\n",
    "# here is the basic man.plot() code:\n",
    "test_plot = man.plot(test)\n",
    "\n",
    "dev.off()  # finishes the command to save the image"
   ]
  },
  {
   "cell_type": "markdown",
   "id": "18d5be24",
   "metadata": {},
   "source": [
    "The image is now saved in the \"plots\" directory. Go there and look at the image that has been created.  \n",
    "  \n",
    "**Questions:**  \n",
    "How would you rename the image?  \n",
    "What if you wanted the image to be more square?  \n",
    "Where would you add the code for your personalised plot from above?  \n"
   ]
  },
  {
   "cell_type": "markdown",
   "id": "d8ac348a",
   "metadata": {},
   "source": [
    "## <font color='DarkBlue'>Section 1: Manahttan plot creation on real-world BIG data\n"
   ]
  },
  {
   "cell_type": "markdown",
   "id": "9d9d9780",
   "metadata": {},
   "source": [
    "## <font color='DarkBlue'>BIG DOG DATA\n"
   ]
  },
  {
   "cell_type": "code",
   "execution_count": null,
   "id": "e7af230d",
   "metadata": {},
   "outputs": [],
   "source": [
    "height = read.csv('data/height_gwas.txt', sep = '\\t', header = TRUE)"
   ]
  },
  {
   "cell_type": "code",
   "execution_count": null,
   "id": "2257988f",
   "metadata": {},
   "outputs": [],
   "source": [
    "height_plot = man.plot(height, threshold = 8.46)"
   ]
  },
  {
   "cell_type": "code",
   "execution_count": null,
   "id": "035c39c0",
   "metadata": {},
   "outputs": [],
   "source": [
    "png('plots/height.png', height = 600, width = 2000, units = 'px', pointsize = 30)\n",
    "par(mar = c(3, 1.5, 0, 1))\n",
    "\n",
    "height_plot = man.plot(height, threshold = 8.46)\n",
    "\n",
    "dev.off()"
   ]
  },
  {
   "cell_type": "code",
   "execution_count": null,
   "id": "949e4b86",
   "metadata": {},
   "outputs": [],
   "source": [
    "height_plot"
   ]
  }
 ],
 "metadata": {
  "kernelspec": {
   "display_name": "R [conda env:manhattan] *",
   "language": "R",
   "name": "conda-env-manhattan-r"
  },
  "language_info": {
   "codemirror_mode": "r",
   "file_extension": ".r",
   "mimetype": "text/x-r-source",
   "name": "R",
   "pygments_lexer": "r",
   "version": "4.1.2"
  }
 },
 "nbformat": 4,
 "nbformat_minor": 5
}
